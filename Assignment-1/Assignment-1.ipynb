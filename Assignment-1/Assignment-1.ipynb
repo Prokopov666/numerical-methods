{
  "nbformat": 4,
  "nbformat_minor": 0,
  "metadata": {
    "colab": {
      "provenance": [],
      "collapsed_sections": []
    },
    "kernelspec": {
      "name": "python3",
      "display_name": "Python 3"
    },
    "language_info": {
      "name": "python"
    }
  },
  "cells": [
    {
      "cell_type": "code",
      "execution_count": 2,
      "metadata": {
        "id": "Iu60rA2PgkTO"
      },
      "outputs": [],
      "source": [
        "import matplotlib.pyplot as plt\n",
        "import numpy as np"
      ]
    },
    {
      "cell_type": "markdown",
      "source": [
        "###  №5\n",
        "Consider a 2-dimensional vector space $r = (x,y)$ and plot the unit disk $\\|x \\|_p \\leq 1$ for $p = 1, 2, 3;$"
      ],
      "metadata": {
        "id": "znDq2i5ahFSP"
      }
    },
    {
      "cell_type": "code",
      "source": [
        "fig, ax = plt.subplots(nrows = 1, ncols = 3, figsize = (9, 3))\n",
        "x = np.linspace(-1, 1, 100)\n",
        "for i, p in enumerate([1, 2, 3]):\n",
        "  y1 = (1 - np.abs(x)**p)**(1/p)\n",
        "  y2 = -(1 - np.abs(x)**p)**(1/p)\n",
        "  ax[i].plot(x, y1, x, y2, c = 'blue')\n",
        "  ax[i].set_title(f' $\\||x \\||_{p} = 1$')\n"
      ],
      "metadata": {
        "colab": {
          "base_uri": "https://localhost:8080/",
          "height": 228
        },
        "id": "NOHceSmehLJJ",
        "outputId": "e6766bb5-3b39-479e-8133-6d3a55d63da7"
      },
      "execution_count": 116,
      "outputs": [
        {
          "output_type": "display_data",
          "data": {
            "text/plain": [
              "<Figure size 648x216 with 3 Axes>"
            ],
            "image/png": "[encoded data removed]"
          },
          "metadata": {
            "needs_background": "light"
          }
        }
      ]
    },
    {
      "cell_type": "markdown",
      "source": [
        "###  №8\n"
      ],
      "metadata": {
        "id": "CytqUYSks-Cb"
      }
    },
    {
      "cell_type": "code",
      "source": [
        "n = 10**8\n",
        "##  pre-allocating numpy array\n",
        "def Conway_numpy():\n",
        "  values = np.zeros(n, dtype = int)\n",
        "  values[0] = 1.0\n",
        "  values[1] = 1.0\n",
        "  for i in range(2, n):\n",
        "    values[i] = values[values[i-1]] + values[i - values[i-1]] \n",
        "\n",
        "##  python list\n",
        "def Conway_list():\n",
        "  values = list()\n",
        "  values.append(1)\n",
        "  values.append(1)\n",
        "  for i in range(2, n):\n",
        "    values.append(values[values[i-1]] + values[i - values[i-1]])\n",
        "  values = np.array(values)\n",
        "\n",
        "##  JIT\n",
        "from numba import jit\n",
        "\n",
        "@jit(nopython=True)\n",
        "def Conway_numba():\n",
        "  values = np.zeros(n)\n",
        "  values[0] = 1\n",
        "  values[1] = 1\n",
        "  for i in range(2, n):\n",
        "    values[i] = values[int(values[i-1])] + values[int(i - values[i-1])] \n",
        "\n",
        "\n",
        "%timeit -n 1 Conway_numpy()\n",
        "%timeit -n 2 Conway_list()\n",
        "%timeit -n 3 Conway_numba()"
      ],
      "metadata": {
        "colab": {
          "base_uri": "https://localhost:8080/"
        },
        "id": "LN8XoPvqr3TA",
        "outputId": "a147a88f-a6c7-40a1-f596-ed66d92da0ce"
      },
      "execution_count": 115,
      "outputs": [
        {
          "output_type": "stream",
          "name": "stdout",
          "text": [
            "1min 24s ± 526 ms per loop (mean ± std. dev. of 7 runs, 1 loop each)\n",
            "38.2 s ± 1.83 s per loop (mean ± std. dev. of 7 runs, 2 loops each)\n",
            "1.14 s ± 155 ms per loop (mean ± std. dev. of 7 runs, 3 loops each)\n"
          ]
        }
      ]
    },
    {
      "cell_type": "code",
      "source": [],
      "metadata": {
        "id": "7_R_bWyfHqSe"
      },
      "execution_count": 87,
      "outputs": []
    },
    {
      "cell_type": "code",
      "source": [],
      "metadata": {
        "id": "OSLWdntxH-gV"
      },
      "execution_count": 87,
      "outputs": []
    },
    {
      "cell_type": "code",
      "source": [],
      "metadata": {
        "id": "gwCWv8TJIAOu"
      },
      "execution_count": 87,
      "outputs": []
    },
    {
      "cell_type": "code",
      "source": [],
      "metadata": {
        "id": "OCpfW6EyIBs9"
      },
      "execution_count": 87,
      "outputs": []
    }
  ]
}
